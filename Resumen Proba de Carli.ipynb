{
 "cells": [
  {
   "cell_type": "markdown",
   "metadata": {},
   "source": [
    "## UNIDAD 2: DISTRIBUCIONES DE PROBABILIDAD\n",
    "\n",
    "### Experimento:\n",
    "Es cualquier situacion u operación en la cual se pueden representar uno o varios resultados.\n",
    "\n",
    "Ej: arrojar un dado\n",
    "\n",
    "Si al repetirlo en idénticas condiciones obtengo:\n",
    "\n",
    "1. Siempre **el mismo** resultado => es **Experimento Determinístico**\n",
    "2. Distintos resultados => Es un **Experimento Aleatorio**\n",
    "\n",
    "### Variable Aleatoria (va.):\n",
    "Es la cantididad variable que expresa el resultado de un experimento aleatorio.\n",
    "\n",
    "#### Características de una va.:\n",
    "\n",
    "1. Tiene asociado un conjunto de valores posibles: **Espacio muestral**\n",
    "2. Tiene asociada una ***Ley de Distribución de probabilidad***, es decir, una probabilidad asociada con cada valor posible.\n",
    "\n",
    "### Función de Distribución de Probabilidad F(x):\n",
    "#### AKA: Función de distribución acumulada\n",
    "Sea ${x}$ un número dado y consideramos la probabilidad $P(X \\leq x)$ de que la va. $X$ sea menor o igual que $x$ \n",
    "\n",
    "Dicha probabilidad será función de $x$ tal que $P(X \\leq x) = F(x)$\n",
    "\n",
    "$F(x)$ es la funcion de distribución de probabilidad de la va. $X$\n",
    "\n",
    "#### Propiedades de F(x):\n",
    "1. Sean $a, b \\in R$ tales que $a < b$.\n",
    "Los sucesos $X \\leq a$ y $a \\leq X \\leq b$ son mutuamente excluyentes de manera que:\n",
    "$P(X \\leq b) = P(X \\leq a) + P(a < x \\leq b)\\\\\n",
    "\\implies P(a < x \\leq b) = P(x \\leq b) - P(x \\leq a) = F(b) - F(a)$\n",
    "\n",
    "2. Dado que $P \\geq 0$, entonces $F(b) - F(a) \\geq 0 \\implies F(b) \\geq F(a)$ \\\\\n",
    "$implies$ $F(x)$ es una **función creciente**\n",
    "\n",
    "3. $lim_{x \\to +\\infty} F(x) = 1$\n",
    "\n",
    "4. $lim_{x \\to -\\infty} F(x) = 0$"
   ]
  },
  {
   "cell_type": "markdown",
   "metadata": {},
   "source": [
    "## TIPOS DE DISTRIBUCIÓN\n",
    "\n",
    "### Distribuciones Discretas\n",
    "Tiene asociada una\n",
    "\n",
    "***Función Masa*** *de Probabilidad (fmp)* o ***Función de Probabilidad Puntual*** tal que:\n",
    "\n",
    "$p_X(x) = P(X=x) ,\\, \\forall x \\in X$ \n",
    "\n",
    "y cumple:\n",
    "\n",
    "$p_X(x)\\geq 0 , \\, \\forall x \\in X$\n",
    "\n",
    "### Distribuciones Continuas\n",
    "Tiene asociada una ***Función de Densidad de probabilidad (fdp)***:\n",
    "\n",
    "$f(x)$ que se define para 2 números $a$ y $b$ $(a \\leq b)$ mediante:\n",
    "\n",
    "$P(a \\leq X \\leq b) = \\int_{a}^{b} f(x) \\, dx$\n",
    "\n",
    "y cumple:\n",
    "\n",
    "$f(x) \\geq 0, \\, \\forall x \\, intervalo \\in R$\n",
    "\n",
    "### Ambas\n",
    "Se asocia una función de distribución de probabilidad F(x)\n"
   ]
  }
 ],
 "metadata": {
  "kernelspec": {
   "display_name": "Python 3",
   "language": "python",
   "name": "python3"
  },
  "language_info": {
   "codemirror_mode": {
    "name": "ipython",
    "version": 3
   },
   "file_extension": ".py",
   "mimetype": "text/x-python",
   "name": "python",
   "nbconvert_exporter": "python",
   "pygments_lexer": "ipython3",
   "version": "3.7.0"
  }
 },
 "nbformat": 4,
 "nbformat_minor": 2
}
