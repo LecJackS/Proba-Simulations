{
 "cells": [
  {
   "cell_type": "code",
   "execution_count": 155,
   "metadata": {},
   "outputs": [],
   "source": [
    "# cuando N grande > la hipergeometrica se comporta como una binomial"
   ]
  },
  {
   "cell_type": "code",
   "execution_count": 156,
   "metadata": {},
   "outputs": [],
   "source": [
    "import scipy.special\n",
    "#https://docs.scipy.org/doc/scipy/reference/generated/scipy.special.binom.html#scipy.special.binom\n",
    "#https://docs.scipy.org/doc/scipy/reference/generated/scipy.special.comb.html#scipy.special.comb"
   ]
  },
  {
   "cell_type": "code",
   "execution_count": 157,
   "metadata": {},
   "outputs": [
    {
     "name": "stdout",
     "output_type": "stream",
     "text": [
      "2.0\n"
     ]
    }
   ],
   "source": [
    "print(scipy.special.binom(2,1))"
   ]
  },
  {
   "cell_type": "code",
   "execution_count": 158,
   "metadata": {},
   "outputs": [],
   "source": [
    "def combi(n,k):\n",
    "    return scipy.special.binom(n,k)"
   ]
  },
  {
   "cell_type": "code",
   "execution_count": 159,
   "metadata": {},
   "outputs": [],
   "source": [
    "def binomial(n,k,p):\n",
    "    return combi(n,k) * p**k * (1-p)**(n-k)"
   ]
  },
  {
   "cell_type": "code",
   "execution_count": 160,
   "metadata": {},
   "outputs": [],
   "source": [
    "#hipergeometrica\n",
    "def hipergeo(N,B,m,k):\n",
    "    # N casos totales\n",
    "    # B casos positivos/buenos\n",
    "    # m cantidad que tomo\n",
    "    # k cantidad de positivos entre los que tomo\n",
    "    return combi(B,k)*combi(N-B,m-k)/combi(N,m)"
   ]
  },
  {
   "cell_type": "code",
   "execution_count": 161,
   "metadata": {},
   "outputs": [
    {
     "data": {
      "text/html": [
       "<img src=\"enunciado12guia2.png\" width=\"700\">\n",
       "<!--- #%%html renders cell as html; for more https://ipython.org/ipython-doc/3/interactive/magics.html\n",
       "--->"
      ],
      "text/plain": [
       "<IPython.core.display.HTML object>"
      ]
     },
     "metadata": {},
     "output_type": "display_data"
    }
   ],
   "source": [
    "%%html\n",
    "<img src=\"enunciado12guia2.png\" width=\"700\">\n",
    "<!--- #%%html renders cell as html; for more https://ipython.org/ipython-doc/3/interactive/magics.html\n",
    "--->"
   ]
  },
  {
   "cell_type": "code",
   "execution_count": 162,
   "metadata": {},
   "outputs": [
    {
     "name": "stdout",
     "output_type": "stream",
     "text": [
      "p(k=6) = 0.21568860999799036\n"
     ]
    }
   ],
   "source": [
    "# Ejemplo:\n",
    "# N: 50 industrias\n",
    "# B: 35 en infracción\n",
    "# m: 10 visitadas\n",
    "# k: 6 en infracción (de las visitadas)\n",
    "print(\"p(k=6) =\", hipergeo(50,35,10,6))"
   ]
  },
  {
   "cell_type": "code",
   "execution_count": 163,
   "metadata": {},
   "outputs": [
    {
     "name": "stdout",
     "output_type": "stream",
     "text": [
      "p(k=6) = 0.2015624535770038\n"
     ]
    }
   ],
   "source": [
    "#Ejemplo2: 10 veces más industrias\n",
    "# N: 500 industrias\n",
    "# B: 350 en infracción\n",
    "# m: 10 visitadas\n",
    "# k: 6 en infracción (de las visitadas)\n",
    "print(\"p(k=6) =\", hipergeo(500,350,10,6))"
   ]
  },
  {
   "cell_type": "code",
   "execution_count": 164,
   "metadata": {},
   "outputs": [
    {
     "name": "stdout",
     "output_type": "stream",
     "text": [
      "p(k=6) = 0.2002640125064037\n"
     ]
    }
   ],
   "source": [
    "#Ejemplo3: 100 veces más industrias\n",
    "# N: 5000 industrias\n",
    "# B: 3500 en infracción\n",
    "# m: 10 visitadas\n",
    "# k: 6 en infracción (de las visitadas)\n",
    "print(\"p(k=6) =\", hipergeo(5000,3500,10,6))"
   ]
  },
  {
   "cell_type": "code",
   "execution_count": 165,
   "metadata": {},
   "outputs": [
    {
     "name": "stdout",
     "output_type": "stream",
     "text": [
      "p(k=6) = 0.20013524455249096\n"
     ]
    }
   ],
   "source": [
    "#Ejemplo3: 1000 veces más industrias\n",
    "# N: 50000 industrias\n",
    "# B: 35000 en infracción\n",
    "# m: 10 visitadas\n",
    "# k: 6 en infracción (de las visitadas)\n",
    "print(\"p(k=6) =\", hipergeo(50000,35000,10,6))"
   ]
  },
  {
   "cell_type": "code",
   "execution_count": 166,
   "metadata": {},
   "outputs": [
    {
     "name": "stdout",
     "output_type": "stream",
     "text": [
      "0.20012094900000005\n"
     ]
    }
   ],
   "source": [
    "# Ahora pruebo aproximarlas con una binomial\n",
    "# en otras palabras, supongo que mi experimento\n",
    "# es CON reposicion\n",
    "# ahora p contiene la info del rate de infractores sobre totales\n",
    "p=350/500\n",
    "print(binomial(10, 6, p))"
   ]
  },
  {
   "cell_type": "code",
   "execution_count": 167,
   "metadata": {},
   "outputs": [],
   "source": [
    "# Viendo solo las diferencias"
   ]
  },
  {
   "cell_type": "code",
   "execution_count": 168,
   "metadata": {},
   "outputs": [
    {
     "name": "stdout",
     "output_type": "stream",
     "text": [
      "Para N: 50   0.21568860999799036\n",
      "Para N: 500  0.2015624535770038\n",
      "Para N: 5000 0.2002640125064037\n"
     ]
    }
   ],
   "source": [
    "print(\"Para N: 50  \", hipergeo(50,  35,  10,6))\n",
    "print(\"Para N: 500 \", hipergeo(500, 350, 10,6))\n",
    "print(\"Para N: 5000\", hipergeo(5000,3500,10,6))"
   ]
  },
  {
   "cell_type": "code",
   "execution_count": 169,
   "metadata": {},
   "outputs": [
    {
     "name": "stdout",
     "output_type": "stream",
     "text": [
      "Para N: 50   0.20012094900000005\n",
      "Para N: 500  0.20012094900000005\n",
      "Para N: 5000 0.20012094900000005\n"
     ]
    }
   ],
   "source": [
    "# Con la Binomial:\n",
    "# (notar que p es siempre igual)\n",
    "print(\"Para N: 50  \", binomial(10, 6, p=35/50))\n",
    "print(\"Para N: 500 \", binomial(10, 6, p=350/500))\n",
    "print(\"Para N: 5000\", binomial(10, 6, p=3500/5000))"
   ]
  },
  {
   "cell_type": "code",
   "execution_count": 170,
   "metadata": {},
   "outputs": [
    {
     "name": "stdout",
     "output_type": "stream",
     "text": [
      "Para N: 50   0.015567660997990312\n",
      "Para N: 500  0.0014415045770037604\n",
      "Para N: 5000 0.00014306350640364007\n",
      "Para N: 5.000.000 1.4294365485723048e-07\n"
     ]
    }
   ],
   "source": [
    "# Diferencias:\n",
    "print(\"Para N: 50  \", hipergeo(50,  35,  10,6) - binomial(10, 6, p=35/50))\n",
    "print(\"Para N: 500 \", hipergeo(500, 350, 10,6) - binomial(10, 6, p=350/500))\n",
    "print(\"Para N: 5000\", hipergeo(5000,3500,10,6) - binomial(10, 6, p=3500/5000))\n",
    "print(\"Para N: 5.000.000\", hipergeo(5000000,3500000,10,6) - binomial(10, 6, p=3500000/5000000))"
   ]
  },
  {
   "cell_type": "code",
   "execution_count": 171,
   "metadata": {},
   "outputs": [
    {
     "name": "stdout",
     "output_type": "stream",
     "text": [
      "0\n",
      "1\n",
      "2\n",
      "3\n",
      "4\n"
     ]
    }
   ],
   "source": [
    "for i in range(5):\n",
    "    print(i)"
   ]
  },
  {
   "cell_type": "code",
   "execution_count": 172,
   "metadata": {},
   "outputs": [
    {
     "name": "stdout",
     "output_type": "stream",
     "text": [
      "0\n",
      "1\n",
      "2\n",
      "3\n",
      "4\n"
     ]
    }
   ],
   "source": [
    "arrayFive = [i for i in range(5)]\n",
    "for x in arrayFive:\n",
    "    print(x)"
   ]
  },
  {
   "cell_type": "code",
   "execution_count": 173,
   "metadata": {},
   "outputs": [
    {
     "name": "stdout",
     "output_type": "stream",
     "text": [
      "[[1.         0.20156245]\n",
      " [1.3        0.20122765]\n",
      " [1.6        0.20101905]\n",
      " [1.9        0.20087662]]\n"
     ]
    }
   ],
   "source": [
    "import numpy as np\n",
    "\n",
    "def diferencia(orden):\n",
    "    return hipergeo(50*(10*orden),35*(10*orden),10,6) - binomial(10, 6, p=35*(10*orden)/50*(10*orden))\n",
    "def hipergeoFija(orden):\n",
    "    return hipergeo(50*(10*orden),35*(10*orden),10,6)\n",
    "def binomialFija():\n",
    "    return binomial(10, 6, p=35/50)\n",
    "\n",
    "data = np.matrix([[orden, hipergeoFija(orden)] for orden in np.arange(1,20,0.3)])\n",
    "dataBinom = np.matrix([[orden, binomialFija()] for orden in np.arange(1,20,0.3)])\n",
    "print(data[0:4])"
   ]
  },
  {
   "cell_type": "code",
   "execution_count": 174,
   "metadata": {},
   "outputs": [
    {
     "name": "stdout",
     "output_type": "stream",
     "text": [
      "[[1. ]\n",
      " [1.3]\n",
      " [1.6]\n",
      " [1.9]]\n"
     ]
    }
   ],
   "source": [
    "print(data[0:4, 0])"
   ]
  },
  {
   "cell_type": "code",
   "execution_count": 175,
   "metadata": {},
   "outputs": [
    {
     "data": {
      "image/png": "[encoded data removed]",
      "text/plain": [
       "<Figure size 432x288 with 1 Axes>"
      ]
     },
     "metadata": {},
     "output_type": "display_data"
    }
   ],
   "source": [
    "#data = [[orden,diferencia(orden)] for orden in range(5)]\n",
    "import matplotlib.pyplot as plt\n",
    "plt.scatter([data[:,0]],[data[:,1]], label='Hipergeometrica')\n",
    "plt.scatter([dataBinom[:,0]],[dataBinom[:,1]], color='red', label='Binomial')\n",
    "#plt.xlim(-2, 2)\n",
    "plt.xlabel(\"10*x * N y B\")\n",
    "plt.ylim(0.19999, 0.20170)\n",
    "plt.ylabel(\"P(X=y)\")\n",
    "plt.legend()\n",
    "plt.show()"
   ]
  },
  {
   "cell_type": "code",
   "execution_count": null,
   "metadata": {},
   "outputs": [],
   "source": []
  },
  {
   "cell_type": "code",
   "execution_count": null,
   "metadata": {},
   "outputs": [],
   "source": []
  }
 ],
 "metadata": {
  "kernelspec": {
   "display_name": "Python 3",
   "language": "python",
   "name": "python3"
  },
  "language_info": {
   "codemirror_mode": {
    "name": "ipython",
    "version": 3
   },
   "file_extension": ".py",
   "mimetype": "text/x-python",
   "name": "python",
   "nbconvert_exporter": "python",
   "pygments_lexer": "ipython3",
   "version": "3.6.5"
  }
 },
 "nbformat": 4,
 "nbformat_minor": 2
}
