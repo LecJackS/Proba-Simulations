{
 "cells": [
  {
   "cell_type": "markdown",
   "metadata": {},
   "source": [
    "<img src=\"img/1.png\">"
   ]
  },
  {
   "cell_type": "markdown",
   "metadata": {},
   "source": [
    "Estimador de momentos:\n",
    "\n",
    "Uso el primer momento, pues si $b > 0$ con $\\mathcal{U}[0,b]$ \\, \n",
    "\n",
    "o con $b < 0$ para $\\mathcal{U}[b,0]$, la esperanza será distinta de cero.\n",
    "\n",
    "\\begin{equation*}\n",
    "\\hat{b}_{mom} = E [X_i] = \\int_{0}^{b} x_i * \\frac{1}{b} * dx = latex es muerte\n",
    "\\end{equation*}\n",
    "\n",
    "\n",
    "\n",
    "\n",
    "\n",
    "\n",
    "\n",
    "\n",
    "\n",
    "\n"
   ]
  },
  {
   "cell_type": "code",
   "execution_count": 109,
   "metadata": {},
   "outputs": [],
   "source": [
    "# Función estimadora de primeros momentos\n",
    "bmom1 = function(muestra){\n",
    "    2*mean(muestra)\n",
    "}\n",
    "\n",
    "# Función estimadora de segundos momentos (para comparar)\n",
    "bmom2 = function(muestra){\n",
    "    n <- length(muestra)\n",
    "    sqrt(3 * mean(muestra^2))\n",
    "}"
   ]
  },
  {
   "cell_type": "code",
   "execution_count": 110,
   "metadata": {},
   "outputs": [],
   "source": [
    "# Estimador de maxima verosimilitud\n",
    "bmv = function(muestra){\n",
    "    max(muestra)\n",
    "}"
   ]
  },
  {
   "cell_type": "code",
   "execution_count": 231,
   "metadata": {},
   "outputs": [
    {
     "data": {
      "text/html": [
       "0.0063336093301114"
      ],
      "text/latex": [
       "0.0063336093301114"
      ],
      "text/markdown": [
       "0.0063336093301114"
      ],
      "text/plain": [
       "[1] 0.006333609"
      ]
     },
     "metadata": {},
     "output_type": "display_data"
    },
    {
     "data": {
      "text/html": [
       "0.0050349352946899"
      ],
      "text/latex": [
       "0.0050349352946899"
      ],
      "text/markdown": [
       "0.0050349352946899"
      ],
      "text/plain": [
       "[1] 0.005034935"
      ]
     },
     "metadata": {},
     "output_type": "display_data"
    },
    {
     "data": {
      "text/html": [
       "0.000473344698548317"
      ],
      "text/latex": [
       "0.000473344698548317"
      ],
      "text/markdown": [
       "0.000473344698548317"
      ],
      "text/plain": [
       "[1] 0.0004733447"
      ]
     },
     "metadata": {},
     "output_type": "display_data"
    }
   ],
   "source": [
    "b <- 1\n",
    "n <- 1500000\n",
    "muestra <- runif(n, min=0, max=b)\n",
    "\n",
    "#acumuladores\n",
    "bmom1_acum <- 0\n",
    "bmom2_acum <- 0\n",
    "bmv_acum   <- 0\n",
    "# error acumulado en k experimentos\n",
    "k <- 1000\n",
    "for(i in 1:k){\n",
    "    bmom1_acum <- bmom1_acum + abs(bmom1(muestra)-b)\n",
    "    bmom2_acum <- bmom2_acum + abs(bmom2(muestra)-b)\n",
    "    bmv_acum   <- bmv_acum   + abs(bmv(muestra)-b)\n",
    "}\n",
    "bmom1_acum\n",
    "bmom2_acum\n",
    "bmv_acum "
   ]
  },
  {
   "cell_type": "markdown",
   "metadata": {},
   "source": [
    "<img src=\"img/2.png\">"
   ]
  },
  {
   "cell_type": "code",
   "execution_count": 112,
   "metadata": {},
   "outputs": [],
   "source": [
    "bmed = function(muestra){\n",
    "    2*median(muestra)\n",
    "}"
   ]
  },
  {
   "cell_type": "markdown",
   "metadata": {},
   "source": [
    "<img src=\"img/3.png\">"
   ]
  },
  {
   "cell_type": "code",
   "execution_count": 113,
   "metadata": {},
   "outputs": [],
   "source": [
    "b <- 1\n",
    "n <- 15\n",
    "muestra <- runif(n, min=0, max=b)"
   ]
  },
  {
   "cell_type": "code",
   "execution_count": 115,
   "metadata": {},
   "outputs": [
    {
     "data": {
      "text/html": [
       "0.0176791636894147"
      ],
      "text/latex": [
       "0.0176791636894147"
      ],
      "text/markdown": [
       "0.0176791636894147"
      ],
      "text/plain": [
       "[1] 0.01767916"
      ]
     },
     "metadata": {},
     "output_type": "display_data"
    },
    {
     "data": {
      "text/html": [
       "0.0216557591124247"
      ],
      "text/latex": [
       "0.0216557591124247"
      ],
      "text/markdown": [
       "0.0216557591124247"
      ],
      "text/plain": [
       "[1] 0.02165576"
      ]
     },
     "metadata": {},
     "output_type": "display_data"
    },
    {
     "data": {
      "text/html": [
       "0.0939315664581954"
      ],
      "text/latex": [
       "0.0939315664581954"
      ],
      "text/markdown": [
       "0.0939315664581954"
      ],
      "text/plain": [
       "[1] 0.09393157"
      ]
     },
     "metadata": {},
     "output_type": "display_data"
    },
    {
     "data": {
      "text/html": [
       "-0.0725688994862139"
      ],
      "text/latex": [
       "-0.0725688994862139"
      ],
      "text/markdown": [
       "-0.0725688994862139"
      ],
      "text/plain": [
       "[1] -0.0725689"
      ]
     },
     "metadata": {},
     "output_type": "display_data"
    }
   ],
   "source": [
    "b - bmom1(muestra)\n",
    "b - bmom2(muestra)\n",
    "b - bmv(muestra)\n",
    "b - bmed(muestra)"
   ]
  },
  {
   "cell_type": "markdown",
   "metadata": {},
   "source": [
    "<img src=\"img/4.png\">"
   ]
  },
  {
   "cell_type": "code",
   "execution_count": 221,
   "metadata": {},
   "outputs": [],
   "source": [
    "experimento = function(){\n",
    "    # a)\n",
    "    b <- 1\n",
    "    n <- 15\n",
    "    muestra <- runif(n, min=0, max=b)\n",
    "    # b)\n",
    "    b_mom1 <- bmom1(muestra)\n",
    "    b_mom2 <- bmom2(muestra)\n",
    "    b_mv  <- bmv(muestra)\n",
    "    b_med <- bmed(muestra)\n",
    "    #devuelvo un vector de estimadores\n",
    "    c(b_mom1, b_mom2, b_mv, b_med)\n",
    "}"
   ]
  },
  {
   "cell_type": "code",
   "execution_count": 222,
   "metadata": {},
   "outputs": [],
   "source": [
    "# c)\n",
    "nrep <- 10\n",
    "estimadores <- array(dim=c(nrep,4), dimnames=list(1:nrep, c(\"b_mom1\", \"b_mom2\", \"b_mv\", \"b_med\")))\n",
    "for(i in 1:nrep){\n",
    "    estimadores[i,] <- array(experimento())\n",
    "}"
   ]
  },
  {
   "cell_type": "code",
   "execution_count": 223,
   "metadata": {},
   "outputs": [
    {
     "data": {
      "text/html": [
       "<table>\n",
       "<thead><tr><th scope=col>b_mom1</th><th scope=col>b_mom2</th><th scope=col>b_mv</th><th scope=col>b_med</th></tr></thead>\n",
       "<tbody>\n",
       "\t<tr><td>0.6579970</td><td>0.6776901</td><td>0.6116319</td><td>0.6756847</td></tr>\n",
       "\t<tr><td>0.9005615</td><td>0.8977722</td><td>0.9781022</td><td>0.8605202</td></tr>\n",
       "\t<tr><td>0.7909920</td><td>0.8367311</td><td>0.8973918</td><td>0.6484276</td></tr>\n",
       "</tbody>\n",
       "</table>\n"
      ],
      "text/latex": [
       "\\begin{tabular}{r|llll}\n",
       " b\\_mom1 & b\\_mom2 & b\\_mv & b\\_med\\\\\n",
       "\\hline\n",
       "\t 0.6579970 & 0.6776901 & 0.6116319 & 0.6756847\\\\\n",
       "\t 0.9005615 & 0.8977722 & 0.9781022 & 0.8605202\\\\\n",
       "\t 0.7909920 & 0.8367311 & 0.8973918 & 0.6484276\\\\\n",
       "\\end{tabular}\n"
      ],
      "text/markdown": [
       "\n",
       "| b_mom1 | b_mom2 | b_mv | b_med |\n",
       "|---|---|---|---|\n",
       "| 0.6579970 | 0.6776901 | 0.6116319 | 0.6756847 |\n",
       "| 0.9005615 | 0.8977722 | 0.9781022 | 0.8605202 |\n",
       "| 0.7909920 | 0.8367311 | 0.8973918 | 0.6484276 |\n",
       "\n"
      ],
      "text/plain": [
       "  b_mom1    b_mom2    b_mv      b_med    \n",
       "1 0.6579970 0.6776901 0.6116319 0.6756847\n",
       "2 0.9005615 0.8977722 0.9781022 0.8605202\n",
       "3 0.7909920 0.8367311 0.8973918 0.6484276"
      ]
     },
     "metadata": {},
     "output_type": "display_data"
    }
   ],
   "source": [
    "estimadores[1:3,]"
   ]
  },
  {
   "cell_type": "markdown",
   "metadata": {},
   "source": [
    "#### Media uniforme: E[X] = (a+b)/2"
   ]
  },
  {
   "cell_type": "code",
   "execution_count": 224,
   "metadata": {},
   "outputs": [],
   "source": [
    "# d)\n",
    "medias_muestrales <- estimadores/2 # + 0/2, pues a = 0, y b = estimadores"
   ]
  },
  {
   "cell_type": "code",
   "execution_count": 233,
   "metadata": {},
   "outputs": [],
   "source": [
    "sesgos <- medias_muestrales - b\n",
    "\n",
    "sesgo_aprox <- apply(sesgos, MARGIN=2, FUN=median)"
   ]
  },
  {
   "cell_type": "code",
   "execution_count": 234,
   "metadata": {},
   "outputs": [
    {
     "data": {
      "text/html": [
       "<dl class=dl-horizontal>\n",
       "\t<dt>b_mom1</dt>\n",
       "\t\t<dd>-0.518827784659031</dd>\n",
       "\t<dt>b_mom2</dt>\n",
       "\t\t<dd>-0.51996493096048</dd>\n",
       "\t<dt>b_mv</dt>\n",
       "\t\t<dd>-0.526074132474605</dd>\n",
       "\t<dt>b_med</dt>\n",
       "\t\t<dd>-0.554613313754089</dd>\n",
       "</dl>\n"
      ],
      "text/latex": [
       "\\begin{description*}\n",
       "\\item[b\\textbackslash{}\\_mom1] -0.518827784659031\n",
       "\\item[b\\textbackslash{}\\_mom2] -0.51996493096048\n",
       "\\item[b\\textbackslash{}\\_mv] -0.526074132474605\n",
       "\\item[b\\textbackslash{}\\_med] -0.554613313754089\n",
       "\\end{description*}\n"
      ],
      "text/markdown": [
       "b_mom1\n",
       ":   -0.518827784659031b_mom2\n",
       ":   -0.51996493096048b_mv\n",
       ":   -0.526074132474605b_med\n",
       ":   -0.554613313754089\n",
       "\n"
      ],
      "text/plain": [
       "    b_mom1     b_mom2       b_mv      b_med \n",
       "-0.5188278 -0.5199649 -0.5260741 -0.5546133 "
      ]
     },
     "metadata": {},
     "output_type": "display_data"
    }
   ],
   "source": [
    "sesgo_aprox"
   ]
  },
  {
   "cell_type": "markdown",
   "metadata": {},
   "source": [
    "#### Varianza muestra: Uso estimador insesgado: n/(n-1) * S^2"
   ]
  },
  {
   "cell_type": "code",
   "execution_count": 235,
   "metadata": {},
   "outputs": [],
   "source": [
    "# e)\n",
    "varianzas_muestrales <- ((medias_muestrales-b/2)^2)/(n-1)"
   ]
  },
  {
   "cell_type": "code",
   "execution_count": 237,
   "metadata": {},
   "outputs": [],
   "source": [
    "varianza_aprox <- apply(varianzas_muestrales, MARGIN=2, FUN=mean)"
   ]
  },
  {
   "cell_type": "code",
   "execution_count": 238,
   "metadata": {},
   "outputs": [
    {
     "data": {
      "text/html": [
       "<dl class=dl-horizontal>\n",
       "\t<dt>b_mom1</dt>\n",
       "\t\t<dd>3.82183193503134e-09</dd>\n",
       "\t<dt>b_mom2</dt>\n",
       "\t\t<dd>2.80835318646753e-09</dd>\n",
       "\t<dt>b_mv</dt>\n",
       "\t\t<dd>2.97026213312343e-09</dd>\n",
       "\t<dt>b_med</dt>\n",
       "\t\t<dd>7.47888923773613e-09</dd>\n",
       "</dl>\n"
      ],
      "text/latex": [
       "\\begin{description*}\n",
       "\\item[b\\textbackslash{}\\_mom1] 3.82183193503134e-09\n",
       "\\item[b\\textbackslash{}\\_mom2] 2.80835318646753e-09\n",
       "\\item[b\\textbackslash{}\\_mv] 2.97026213312343e-09\n",
       "\\item[b\\textbackslash{}\\_med] 7.47888923773613e-09\n",
       "\\end{description*}\n"
      ],
      "text/markdown": [
       "b_mom1\n",
       ":   3.82183193503134e-09b_mom2\n",
       ":   2.80835318646753e-09b_mv\n",
       ":   2.97026213312343e-09b_med\n",
       ":   7.47888923773613e-09\n",
       "\n"
      ],
      "text/plain": [
       "      b_mom1       b_mom2         b_mv        b_med \n",
       "3.821832e-09 2.808353e-09 2.970262e-09 7.478889e-09 "
      ]
     },
     "metadata": {},
     "output_type": "display_data"
    }
   ],
   "source": [
    "varianza_aprox"
   ]
  },
  {
   "cell_type": "code",
   "execution_count": 242,
   "metadata": {},
   "outputs": [
    {
     "data": {
      "text/html": [
       "<dl class=dl-horizontal>\n",
       "\t<dt>b_mom1</dt>\n",
       "\t\t<dd>0.269182273956029</dd>\n",
       "\t<dt>b_mom2</dt>\n",
       "\t\t<dd>0.27036353223709</dd>\n",
       "\t<dt>b_mv</dt>\n",
       "\t\t<dd>0.27675399582917</dd>\n",
       "\t<dt>b_med</dt>\n",
       "\t\t<dd>0.307595935272181</dd>\n",
       "</dl>\n"
      ],
      "text/latex": [
       "\\begin{description*}\n",
       "\\item[b\\textbackslash{}\\_mom1] 0.269182273956029\n",
       "\\item[b\\textbackslash{}\\_mom2] 0.27036353223709\n",
       "\\item[b\\textbackslash{}\\_mv] 0.27675399582917\n",
       "\\item[b\\textbackslash{}\\_med] 0.307595935272181\n",
       "\\end{description*}\n"
      ],
      "text/markdown": [
       "b_mom1\n",
       ":   0.269182273956029b_mom2\n",
       ":   0.27036353223709b_mv\n",
       ":   0.27675399582917b_med\n",
       ":   0.307595935272181\n",
       "\n"
      ],
      "text/plain": [
       "   b_mom1    b_mom2      b_mv     b_med \n",
       "0.2691823 0.2703635 0.2767540 0.3075959 "
      ]
     },
     "metadata": {},
     "output_type": "display_data"
    }
   ],
   "source": [
    "# f) Aproximación del Error Cuadratico Medio (ECM)\n",
    "ECM <- varianza_aprox + sesgo_aprox^2\n",
    "ECM"
   ]
  },
  {
   "cell_type": "markdown",
   "metadata": {},
   "source": [
    "<img src=\"img/5.png\">"
   ]
  },
  {
   "cell_type": "code",
   "execution_count": null,
   "metadata": {},
   "outputs": [],
   "source": [
    "#simulacion_mv(b,n)\n",
    "simulacion_mv = function(b, n){\n",
    "    muestra <- runif(n, min=0, max=b)\n",
    "    bmv(muestra)\n",
    "}\n",
    "\n",
    "simulacion_mom = function(b, n){\n",
    "    muestra <- runif(n, min=0, max=b)\n",
    "    bmom1(muestra)\n",
    "}"
   ]
  },
  {
   "cell_type": "code",
   "execution_count": null,
   "metadata": {},
   "outputs": [],
   "source": [
    "# Función estimadora de primeros momentos\n",
    "bmom1 = function(muestra){\n",
    "    2*mean(muestra)\n",
    "}\n",
    "\n",
    "# Función estimadora de segundos momentos (para comparar)\n",
    "bmom2 = function(muestra){\n",
    "    n <- length(muestra)\n",
    "    sqrt(3 * mean(muestra^2))\n",
    "}\n",
    "\n",
    "# Estimador de maxima verosimilitud\n",
    "bmv = function(muestra){\n",
    "    max(muestra)\n",
    "}"
   ]
  },
  {
   "cell_type": "markdown",
   "metadata": {},
   "source": []
  },
  {
   "cell_type": "markdown",
   "metadata": {},
   "source": []
  },
  {
   "cell_type": "markdown",
   "metadata": {},
   "source": []
  },
  {
   "cell_type": "code",
   "execution_count": null,
   "metadata": {},
   "outputs": [],
   "source": []
  },
  {
   "cell_type": "code",
   "execution_count": null,
   "metadata": {},
   "outputs": [],
   "source": []
  },
  {
   "cell_type": "code",
   "execution_count": null,
   "metadata": {},
   "outputs": [],
   "source": []
  },
  {
   "cell_type": "code",
   "execution_count": null,
   "metadata": {},
   "outputs": [],
   "source": []
  },
  {
   "cell_type": "code",
   "execution_count": null,
   "metadata": {},
   "outputs": [],
   "source": []
  }
 ],
 "metadata": {
  "kernelspec": {
   "display_name": "R",
   "language": "R",
   "name": "ir"
  },
  "language_info": {
   "codemirror_mode": "r",
   "file_extension": ".r",
   "mimetype": "text/x-r-source",
   "name": "R",
   "pygments_lexer": "r",
   "version": "3.6.0"
  }
 },
 "nbformat": 4,
 "nbformat_minor": 2
}
