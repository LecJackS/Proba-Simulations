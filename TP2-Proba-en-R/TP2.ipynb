{
 "cells": [
  {
   "cell_type": "markdown",
   "metadata": {},
   "source": [
    "<img src=\"img/1.png\">"
   ]
  },
  {
   "cell_type": "markdown",
   "metadata": {},
   "source": [
    "Estimador de momentos:\n",
    "\n",
    "Uso el primer momento, pues si $b > 0$ con $\\mathcal{U}[0,b]$ \\, \n",
    "\n",
    "o con $b < 0$ para $\\mathcal{U}[b,0]$, la esperanza será distinta de cero.\n",
    "\n",
    "\\begin{equation*}\n",
    "\\hat{b}_{mom} = E [X_i] = \\int_{0}^{b} x_i * \\frac{1}{b} * dx = latex es muerte\n",
    "\\end{equation*}\n",
    "\n",
    "\n",
    "\n",
    "\n",
    "\n",
    "\n",
    "\n",
    "\n",
    "\n",
    "\n"
   ]
  },
  {
   "cell_type": "markdown",
   "metadata": {},
   "source": [
    "<img src=\"img/2.png\">"
   ]
  },
  {
   "cell_type": "code",
   "execution_count": 40,
   "metadata": {},
   "outputs": [
    {
     "data": {
      "text/html": [
       "0.949755388312042"
      ],
      "text/latex": [
       "0.949755388312042"
      ],
      "text/markdown": [
       "0.949755388312042"
      ],
      "text/plain": [
       "[1] 0.9497554"
      ]
     },
     "metadata": {},
     "output_type": "display_data"
    }
   ],
   "source": [
    "n <- 500\n",
    "muestra <- runif(n)\n",
    "bmed = 2*median(muestra)\n",
    "bmed"
   ]
  },
  {
   "cell_type": "code",
   "execution_count": 32,
   "metadata": {},
   "outputs": [
    {
     "data": {
      "text/html": [
       "0.484437734354287"
      ],
      "text/latex": [
       "0.484437734354287"
      ],
      "text/markdown": [
       "0.484437734354287"
      ],
      "text/plain": [
       "[1] 0.4844377"
      ]
     },
     "metadata": {},
     "output_type": "display_data"
    }
   ],
   "source": []
  },
  {
   "cell_type": "markdown",
   "metadata": {},
   "source": [
    "<img src=\"img/3.png\">"
   ]
  },
  {
   "cell_type": "code",
   "execution_count": 22,
   "metadata": {},
   "outputs": [
    {
     "data": {
      "text/html": [
       "<ol class=list-inline>\n",
       "\t<li>0.715388853102922</li>\n",
       "\t<li>0.0762521564029157</li>\n",
       "\t<li>0.390480618458241</li>\n",
       "\t<li>0.883169716689736</li>\n",
       "\t<li>0.731175485532731</li>\n",
       "\t<li>0.7878930689767</li>\n",
       "\t<li>0.565086965681985</li>\n",
       "\t<li>0.268902844749391</li>\n",
       "\t<li>0.22308142692782</li>\n",
       "\t<li>0.331550969276577</li>\n",
       "\t<li>0.812696601031348</li>\n",
       "\t<li>0.660236756550148</li>\n",
       "\t<li>0.555474148131907</li>\n",
       "\t<li>0.747372553683817</li>\n",
       "\t<li>0.23216393426992</li>\n",
       "</ol>\n"
      ],
      "text/latex": [
       "\\begin{enumerate*}\n",
       "\\item 0.715388853102922\n",
       "\\item 0.0762521564029157\n",
       "\\item 0.390480618458241\n",
       "\\item 0.883169716689736\n",
       "\\item 0.731175485532731\n",
       "\\item 0.7878930689767\n",
       "\\item 0.565086965681985\n",
       "\\item 0.268902844749391\n",
       "\\item 0.22308142692782\n",
       "\\item 0.331550969276577\n",
       "\\item 0.812696601031348\n",
       "\\item 0.660236756550148\n",
       "\\item 0.555474148131907\n",
       "\\item 0.747372553683817\n",
       "\\item 0.23216393426992\n",
       "\\end{enumerate*}\n"
      ],
      "text/markdown": [
       "1. 0.715388853102922\n",
       "2. 0.0762521564029157\n",
       "3. 0.390480618458241\n",
       "4. 0.883169716689736\n",
       "5. 0.731175485532731\n",
       "6. 0.7878930689767\n",
       "7. 0.565086965681985\n",
       "8. 0.268902844749391\n",
       "9. 0.22308142692782\n",
       "10. 0.331550969276577\n",
       "11. 0.812696601031348\n",
       "12. 0.660236756550148\n",
       "13. 0.555474148131907\n",
       "14. 0.747372553683817\n",
       "15. 0.23216393426992\n",
       "\n",
       "\n"
      ],
      "text/plain": [
       " [1] 0.71538885 0.07625216 0.39048062 0.88316972 0.73117549 0.78789307\n",
       " [7] 0.56508697 0.26890284 0.22308143 0.33155097 0.81269660 0.66023676\n",
       "[13] 0.55547415 0.74737255 0.23216393"
      ]
     },
     "metadata": {},
     "output_type": "display_data"
    }
   ],
   "source": [
    "b <- 1\n",
    "n <- 15\n",
    "muestra <- runif(n, min = 0, max = b)\n",
    "muestra"
   ]
  },
  {
   "cell_type": "code",
   "execution_count": 26,
   "metadata": {},
   "outputs": [
    {
     "data": {
      "text/html": [
       "0.532061739964411"
      ],
      "text/latex": [
       "0.532061739964411"
      ],
      "text/markdown": [
       "0.532061739964411"
      ],
      "text/plain": [
       "[1] 0.5320617"
      ]
     },
     "metadata": {},
     "output_type": "display_data"
    }
   ],
   "source": [
    "# Esperanza\n",
    "# 1/2*[x^2] entre b y cero: \n",
    "bmom <- mean(muestra)\n",
    "bmom"
   ]
  },
  {
   "cell_type": "code",
   "execution_count": 23,
   "metadata": {},
   "outputs": [
    {
     "data": {
      "text/html": [
       "1.13017393136397"
      ],
      "text/latex": [
       "1.13017393136397"
      ],
      "text/markdown": [
       "1.13017393136397"
      ],
      "text/plain": [
       "[1] 1.130174"
      ]
     },
     "metadata": {},
     "output_type": "display_data"
    }
   ],
   "source": [
    "bmed <- 2*median(muestra)\n",
    "bmed"
   ]
  },
  {
   "cell_type": "markdown",
   "metadata": {},
   "source": [
    "<img src=\"img/4.png\">"
   ]
  },
  {
   "cell_type": "code",
   "execution_count": null,
   "metadata": {},
   "outputs": [],
   "source": [
    "# a)\n",
    "b <- 1\n",
    "n <- 15\n",
    "muestra <- runif(n, min=0, max=b)"
   ]
  },
  {
   "cell_type": "markdown",
   "metadata": {},
   "source": [
    "<img src=\"img/5.png\">"
   ]
  },
  {
   "cell_type": "markdown",
   "metadata": {},
   "source": []
  },
  {
   "cell_type": "markdown",
   "metadata": {},
   "source": []
  },
  {
   "cell_type": "markdown",
   "metadata": {},
   "source": []
  },
  {
   "cell_type": "markdown",
   "metadata": {},
   "source": []
  },
  {
   "cell_type": "markdown",
   "metadata": {},
   "source": []
  },
  {
   "cell_type": "code",
   "execution_count": null,
   "metadata": {},
   "outputs": [],
   "source": []
  },
  {
   "cell_type": "code",
   "execution_count": null,
   "metadata": {},
   "outputs": [],
   "source": []
  },
  {
   "cell_type": "code",
   "execution_count": null,
   "metadata": {},
   "outputs": [],
   "source": []
  },
  {
   "cell_type": "code",
   "execution_count": null,
   "metadata": {},
   "outputs": [],
   "source": []
  },
  {
   "cell_type": "code",
   "execution_count": null,
   "metadata": {},
   "outputs": [],
   "source": []
  }
 ],
 "metadata": {
  "kernelspec": {
   "display_name": "R",
   "language": "R",
   "name": "ir"
  },
  "language_info": {
   "codemirror_mode": "r",
   "file_extension": ".r",
   "mimetype": "text/x-r-source",
   "name": "R",
   "pygments_lexer": "r",
   "version": "3.6.0"
  }
 },
 "nbformat": 4,
 "nbformat_minor": 2
}
