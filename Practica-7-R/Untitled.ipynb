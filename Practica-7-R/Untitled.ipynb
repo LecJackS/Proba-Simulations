{
 "cells": [
  {
   "cell_type": "markdown",
   "metadata": {},
   "source": [
    "<img src=\"./img/1.png\" width=800 align=\"left\">"
   ]
  },
  {
   "cell_type": "code",
   "execution_count": 3,
   "metadata": {},
   "outputs": [],
   "source": [
    "# Data\n",
    "X <- c(76.93, 76.88, 77.07, 76.68, 76.39, 75.09, 77.67, 76.88, 78.15, 76.50, 77.16, 76.42)"
   ]
  },
  {
   "cell_type": "code",
   "execution_count": 2,
   "metadata": {},
   "outputs": [
    {
     "data": {
      "text/html": [
       "76.8183333333333"
      ],
      "text/latex": [
       "76.8183333333333"
      ],
      "text/markdown": [
       "76.8183333333333"
      ],
      "text/plain": [
       "[1] 76.81833"
      ]
     },
     "metadata": {},
     "output_type": "display_data"
    }
   ],
   "source": [
    "# a) Promedio\n",
    "prom <- mean(X)\n",
    "prom"
   ]
  },
  {
   "cell_type": "code",
   "execution_count": 12,
   "metadata": {},
   "outputs": [
    {
     "data": {
      "text/html": [
       "76.88"
      ],
      "text/latex": [
       "76.88"
      ],
      "text/markdown": [
       "76.88"
      ],
      "text/plain": [
       "[1] 76.88"
      ]
     },
     "metadata": {},
     "output_type": "display_data"
    }
   ],
   "source": [
    "# b) Mediana\n",
    "mediana <- median(X)\n",
    "mediana"
   ]
  },
  {
   "cell_type": "code",
   "execution_count": 13,
   "metadata": {},
   "outputs": [
    {
     "data": {
      "text/html": [
       "<ol class=list-inline>\n",
       "\t<li>76.39</li>\n",
       "\t<li>75.09</li>\n",
       "\t<li>76.5</li>\n",
       "\t<li>76.42</li>\n",
       "</ol>\n"
      ],
      "text/latex": [
       "\\begin{enumerate*}\n",
       "\\item 76.39\n",
       "\\item 75.09\n",
       "\\item 76.5\n",
       "\\item 76.42\n",
       "\\end{enumerate*}\n"
      ],
      "text/markdown": [
       "1. 76.39\n",
       "2. 75.09\n",
       "3. 76.5\n",
       "4. 76.42\n",
       "\n",
       "\n"
      ],
      "text/plain": [
       "[1] 76.39 75.09 76.50 76.42"
      ]
     },
     "metadata": {},
     "output_type": "display_data"
    }
   ],
   "source": [
    "# c) Proporcion de piezas con menos de 76.50% de carbos\n",
    "X[X<=76.5] # punto para R"
   ]
  },
  {
   "cell_type": "markdown",
   "metadata": {},
   "source": [
    "Logical, boolean, mask index arrays: https://docs.scipy.org/doc/numpy-1.13.0/user/basics.indexing.html#boolean-or-mask-index-arrays"
   ]
  },
  {
   "cell_type": "code",
   "execution_count": 15,
   "metadata": {},
   "outputs": [
    {
     "data": {
      "text/html": [
       "0.333333333333333"
      ],
      "text/latex": [
       "0.333333333333333"
      ],
      "text/markdown": [
       "0.333333333333333"
      ],
      "text/plain": [
       "[1] 0.3333333"
      ]
     },
     "metadata": {},
     "output_type": "display_data"
    }
   ],
   "source": [
    "proporcion <- length(X[X<=76.5])/length(X)\n",
    "proporcion"
   ]
  },
  {
   "cell_type": "markdown",
   "metadata": {},
   "source": [
    "<img src=\"./img/2.png\" width=800 align=\"left\">"
   ]
  },
  {
   "cell_type": "markdown",
   "metadata": {},
   "source": [
    "a) P(X1,...,Xn) =iid= P(X1)*...*P(Xn) =N= fX1*...*fXn\n",
    "\n",
    "$\\prod f_{X_i}(k_i) = \\prod \\frac{1}{\\sigma\\sqrt{2\\pi}} \\exp({-\\frac{(k_i-\\mu)^2}{2\\sigma^2}})$"
   ]
  },
  {
   "cell_type": "markdown",
   "metadata": {},
   "source": [
    "Quiero derivar para obtener el maximo de esa productoria.\n",
    "\n",
    "Pero derivarlo como está sería muy complicado por la productoria.\n",
    "\n",
    "Aplico log() (log de producto = suma de logs)"
   ]
  },
  {
   "cell_type": "markdown",
   "metadata": {},
   "source": [
    "$\\log(\\prod \\frac{1}{\\sigma\\sqrt{2\\pi}} \\exp({-\\frac{(k_i-\\mu)^2}{2\\sigma^2}})) = $\n",
    "\n",
    "$= \\sum \\log(\\frac{1}{\\sigma\\sqrt{2\\pi}} \\exp({-\\frac{(k_i-\\mu)^2}{2\\sigma^2}})) = $\n",
    "\n",
    "$= {-\\frac{1}{2\\sigma^2}}  \\log(\\frac{1}{\\sigma\\sqrt{2\\pi}}) \\sum (k_i-\\mu)^2 =$"
   ]
  },
  {
   "cell_type": "markdown",
   "metadata": {},
   "source": [
    "Llamo\n",
    "\n",
    "$\\gamma = {-\\frac{1}{2\\sigma^2}}  \\log(\\frac{1}{\\sigma\\sqrt{2\\pi}})$"
   ]
  },
  {
   "cell_type": "markdown",
   "metadata": {},
   "source": [
    "$= \\gamma \\sum (k_i-\\mu)^2 =$"
   ]
  },
  {
   "cell_type": "markdown",
   "metadata": {},
   "source": [
    "Derivo con respecto a cada una de las variables que quiero despejar.\n",
    "\n",
    "Despejo $\\mu$:\n",
    "\n",
    "$\\frac{\\partial}{\\partial \\mu} \\gamma \\sum (k_i-\\mu)^2 =$\n"
   ]
  },
  {
   "cell_type": "markdown",
   "metadata": {},
   "source": [
    "$= \\gamma \\sum -2\\, (k_i - \\mu)=$\n",
    "\n",
    "$= \\gamma \\sum -2 k_i + 2\\mu =$\n",
    "\n",
    "$\\gamma\\, 2n\\mu - 2 \\gamma\\, \\sum k_i  = 0$ <- quiero el máximo, busco punto crítico"
   ]
  },
  {
   "cell_type": "markdown",
   "metadata": {},
   "source": [
    "$2n\\mu = 2 \\sum k_i$\n",
    "\n",
    "$n\\mu = \\sum k_i$\n",
    "\n",
    "\\begin{equation*}\n",
    "\\mu = \\frac{\\sum k_i}{n} \\, , k_i \\in \\underline{X}\n",
    "\\end{equation*}\n"
   ]
  },
  {
   "cell_type": "markdown",
   "metadata": {},
   "source": [
    "Despejo $\\sigma^2$:\n",
    "\n",
    "$\\frac{\\partial}{\\partial \\mu} -\\frac{1}{2\\sigma^2}  \\log(\\frac{1}{\\sigma\\sqrt{2\\pi}}) \\sum (k_i-\\mu)^2 =$\n",
    "\n",
    "$ = {-\\frac{1}{2\\sigma^2}}\\sigma\\sqrt{2\\pi}\\sum (k_i-\\mu)^2 + \\frac{1}{\\sigma^3}\\log(\\frac{1}{\\sigma\\sqrt{2\\pi}}) \\sum (k_i-\\mu)^2$\n",
    "\n",
    "${-\\frac{1}{2\\sigma}}\\sqrt{2\\pi}\\sum (k_i-\\mu)^2 + \\frac{1}{\\sigma^3}\\log(\\frac{1}{\\sigma\\sqrt{2\\pi}}) \\sum (k_i-\\mu)^2 = 0$ "
   ]
  },
  {
   "cell_type": "code",
   "execution_count": null,
   "metadata": {},
   "outputs": [],
   "source": []
  }
 ],
 "metadata": {
  "kernelspec": {
   "display_name": "R",
   "language": "R",
   "name": "ir"
  },
  "language_info": {
   "codemirror_mode": "r",
   "file_extension": ".r",
   "mimetype": "text/x-r-source",
   "name": "R",
   "pygments_lexer": "r",
   "version": "3.6.0"
  }
 },
 "nbformat": 4,
 "nbformat_minor": 2
}
