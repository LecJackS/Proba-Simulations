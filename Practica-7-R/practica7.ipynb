{
 "cells": [
  {
   "cell_type": "markdown",
   "metadata": {},
   "source": [
    "#### Inferencia estadística, estimación puntual:\n",
    "\n",
    "http://www.dm.uba.ar/materias/probabilidades_estadistica_C/2004/2/PyEC13.pdf"
   ]
  },
  {
   "cell_type": "markdown",
   "metadata": {},
   "source": [
    "<img src=\"./img/1.png\" width=800 align=\"left\">"
   ]
  },
  {
   "cell_type": "code",
   "execution_count": 15,
   "metadata": {},
   "outputs": [],
   "source": [
    "# Data\n",
    "X <- c(76.93, 76.88, 77.07, 76.68, 76.39, 75.09, 77.67, 76.88, 78.15, 76.50, 77.16, 76.42)"
   ]
  },
  {
   "cell_type": "code",
   "execution_count": 16,
   "metadata": {},
   "outputs": [
    {
     "data": {
      "text/html": [
       "76.8183333333333"
      ],
      "text/latex": [
       "76.8183333333333"
      ],
      "text/markdown": [
       "76.8183333333333"
      ],
      "text/plain": [
       "[1] 76.81833"
      ]
     },
     "metadata": {},
     "output_type": "display_data"
    }
   ],
   "source": [
    "# a) Promedio\n",
    "prom <- mean(X)\n",
    "prom"
   ]
  },
  {
   "cell_type": "code",
   "execution_count": 17,
   "metadata": {},
   "outputs": [
    {
     "data": {
      "text/html": [
       "76.88"
      ],
      "text/latex": [
       "76.88"
      ],
      "text/markdown": [
       "76.88"
      ],
      "text/plain": [
       "[1] 76.88"
      ]
     },
     "metadata": {},
     "output_type": "display_data"
    }
   ],
   "source": [
    "# b) Mediana\n",
    "mediana <- median(X)\n",
    "mediana"
   ]
  },
  {
   "cell_type": "code",
   "execution_count": 18,
   "metadata": {},
   "outputs": [
    {
     "data": {
      "text/html": [
       "<ol class=list-inline>\n",
       "\t<li>76.39</li>\n",
       "\t<li>75.09</li>\n",
       "\t<li>76.5</li>\n",
       "\t<li>76.42</li>\n",
       "</ol>\n"
      ],
      "text/latex": [
       "\\begin{enumerate*}\n",
       "\\item 76.39\n",
       "\\item 75.09\n",
       "\\item 76.5\n",
       "\\item 76.42\n",
       "\\end{enumerate*}\n"
      ],
      "text/markdown": [
       "1. 76.39\n",
       "2. 75.09\n",
       "3. 76.5\n",
       "4. 76.42\n",
       "\n",
       "\n"
      ],
      "text/plain": [
       "[1] 76.39 75.09 76.50 76.42"
      ]
     },
     "metadata": {},
     "output_type": "display_data"
    }
   ],
   "source": [
    "# c) Proporcion de piezas con menos de 76.50% de carbos\n",
    "X[X<=76.5] # punto para R"
   ]
  },
  {
   "cell_type": "markdown",
   "metadata": {},
   "source": [
    "Logical, boolean, mask index arrays: https://docs.scipy.org/doc/numpy-1.13.0/user/basics.indexing.html#boolean-or-mask-index-arrays"
   ]
  },
  {
   "cell_type": "code",
   "execution_count": 19,
   "metadata": {},
   "outputs": [
    {
     "data": {
      "text/html": [
       "0.333333333333333"
      ],
      "text/latex": [
       "0.333333333333333"
      ],
      "text/markdown": [
       "0.333333333333333"
      ],
      "text/plain": [
       "[1] 0.3333333"
      ]
     },
     "metadata": {},
     "output_type": "display_data"
    }
   ],
   "source": [
    "proporcion <- length(X[X<=76.5])/length(X)\n",
    "proporcion"
   ]
  },
  {
   "cell_type": "markdown",
   "metadata": {},
   "source": [
    "<img src=\"./img/2.png\" width=800 align=\"left\">"
   ]
  },
  {
   "cell_type": "markdown",
   "metadata": {},
   "source": [
    "a) P(X1,...,Xn) =iid= P(X1)*...*P(Xn) =N= fX1*...*fXn\n",
    "\n",
    "$\\prod f_{X_i}(k_i) = \\prod \\frac{1}{\\sigma\\sqrt{2\\pi}} \\exp({-\\frac{(k_i-\\mu)^2}{2\\sigma^2}})$"
   ]
  },
  {
   "cell_type": "markdown",
   "metadata": {},
   "source": [
    "Quiero derivar para obtener el maximo de esa productoria.\n",
    "\n",
    "Pero derivarlo como está sería muy complicado por la productoria.\n",
    "\n",
    "Aplico log() (log de producto = suma de logs)"
   ]
  },
  {
   "cell_type": "markdown",
   "metadata": {},
   "source": [
    "$\\log(\\prod \\frac{1}{\\sigma\\sqrt{2\\pi}} \\exp({-\\frac{(k_i-\\mu)^2}{2\\sigma^2}})) = $\n",
    "\n",
    "$= \\sum \\log(\\frac{1}{\\sigma\\sqrt{2\\pi}} \\exp({-\\frac{(k_i-\\mu)^2}{2\\sigma^2}})) = $\n",
    "\n",
    "$= {-\\frac{1}{2\\sigma^2}}  \\log(\\frac{1}{\\sigma\\sqrt{2\\pi}}) \\sum (k_i-\\mu)^2 =$"
   ]
  },
  {
   "cell_type": "markdown",
   "metadata": {},
   "source": [
    "Llamo\n",
    "\n",
    "$\\gamma = {-\\frac{1}{2\\sigma^2}}  \\log(\\frac{1}{\\sigma\\sqrt{2\\pi}})$"
   ]
  },
  {
   "cell_type": "markdown",
   "metadata": {},
   "source": [
    "$= \\gamma \\sum (k_i-\\mu)^2 =$"
   ]
  },
  {
   "cell_type": "markdown",
   "metadata": {},
   "source": [
    "Derivo con respecto a cada una de las variables que quiero despejar.\n",
    "\n",
    "Despejo $\\mu$:\n",
    "\n",
    "$\\frac{\\partial}{\\partial \\mu} \\gamma \\sum (k_i-\\mu)^2 =$\n"
   ]
  },
  {
   "cell_type": "markdown",
   "metadata": {},
   "source": [
    "$= \\gamma \\sum -2\\, (k_i - \\mu)=$\n",
    "\n",
    "$= \\gamma \\sum -2 k_i + 2\\mu =$\n",
    "\n",
    "$\\gamma\\, 2n\\mu - 2 \\gamma\\, \\sum k_i  = 0$ <- quiero el máximo, busco punto crítico"
   ]
  },
  {
   "cell_type": "markdown",
   "metadata": {},
   "source": [
    "$2n\\mu = 2 \\sum k_i$\n",
    "\n",
    "$n\\mu = \\sum k_i$\n",
    "\n",
    "\\begin{equation*}\n",
    "\\mu = \\frac{\\sum k_i}{n} \\, , k_i \\in \\underline{X}\\,  , \\underline{X}:muestra\n",
    "\\end{equation*}\n",
    "\n",
    "\\begin{equation*}\n",
    "\\mu = E [ \\underline{X} ] \n",
    "\\end{equation*}\n"
   ]
  },
  {
   "cell_type": "markdown",
   "metadata": {},
   "source": [
    "Despejo $\\sigma^2$:\n",
    "\n",
    "$\\frac{\\partial}{\\partial \\sigma} (-\\frac{1}{2\\sigma^2}  \\log(\\frac{1}{\\sigma\\sqrt{2\\pi}}) \\sum (k_i-\\mu)^2 ) =$\n",
    "\n",
    "$ = {-\\frac{1}{2\\sigma^2}}\\sigma\\sqrt{2\\pi}\\sum (k_i-\\mu)^2 + \\frac{1}{\\sigma^3}\\log(\\frac{1}{\\sigma\\sqrt{2\\pi}}) \\sum (k_i-\\mu)^2$\n",
    "\n",
    "${-\\frac{1}{2\\sigma}}\\sqrt{2\\pi}\\sum (k_i-\\mu)^2 + \\frac{1}{\\sigma^3}\\log(\\frac{1}{\\sigma\\sqrt{2\\pi}}) \\sum (k_i-\\mu)^2 = 0$ \n",
    "\n",
    "la muerte trabajar con latex de una"
   ]
  },
  {
   "cell_type": "markdown",
   "metadata": {},
   "source": [
    "Despeje de $\\sigma$ :\n",
    "\n",
    "<img src=\"./img/despeje-sigma.jpg\" width=800 align=\"left\">"
   ]
  },
  {
   "cell_type": "markdown",
   "metadata": {},
   "source": [
    "No entiendo b) y c)\n",
    "\n",
    "La diferencia con a) es solo al despejar sigma, pues uso el promedio conocido en vez del promedio muestral?\n",
    "\n",
    "Calcular el promedio muestra sería igual, porque no depende de sigma."
   ]
  },
  {
   "cell_type": "code",
   "execution_count": null,
   "metadata": {},
   "outputs": [],
   "source": []
  },
  {
   "cell_type": "markdown",
   "metadata": {},
   "source": [
    "<img src=\"./img/3a.png\" width=800 align=\"left\">"
   ]
  },
  {
   "cell_type": "code",
   "execution_count": 20,
   "metadata": {},
   "outputs": [],
   "source": [
    "X <- c(210, 197, 187, 217, 194,\n",
    "       208, 220, 199, 193, 203,\n",
    "       181, 212, 188, 196, 185)"
   ]
  },
  {
   "cell_type": "markdown",
   "metadata": {},
   "source": [
    "$X \\sim N(\\mu, \\sigma^2)$"
   ]
  },
  {
   "cell_type": "code",
   "execution_count": 21,
   "metadata": {},
   "outputs": [],
   "source": [
    "mu <- mean(X)\n",
    "n <- length(X)\n",
    "sigma2 <- sum((X-mu)^2)/n"
   ]
  },
  {
   "cell_type": "code",
   "execution_count": 22,
   "metadata": {},
   "outputs": [
    {
     "data": {
      "text/html": [
       "199.333333333333"
      ],
      "text/latex": [
       "199.333333333333"
      ],
      "text/markdown": [
       "199.333333333333"
      ],
      "text/plain": [
       "[1] 199.3333"
      ]
     },
     "metadata": {},
     "output_type": "display_data"
    },
    {
     "data": {
      "text/html": [
       "133.955555555556"
      ],
      "text/latex": [
       "133.955555555556"
      ],
      "text/markdown": [
       "133.955555555556"
      ],
      "text/plain": [
       "[1] 133.9556"
      ]
     },
     "metadata": {},
     "output_type": "display_data"
    }
   ],
   "source": [
    "mu\n",
    "sigma2"
   ]
  },
  {
   "cell_type": "markdown",
   "metadata": {},
   "source": [
    "<img src=\"./img/3b.png\" width=800 align=\"left\">"
   ]
  },
  {
   "cell_type": "markdown",
   "metadata": {},
   "source": [
    "$\\epsilon \\sim N(0, \\sigma^2=0.01)$\n",
    "\n",
    "$\\mu = cte$\n",
    "\n",
    "$X = \\mu + \\epsilon \\implies X \\sim N(\\mu, \\sigma^2=0.01)$"
   ]
  },
  {
   "cell_type": "code",
   "execution_count": 23,
   "metadata": {},
   "outputs": [],
   "source": [
    "X <- c(25.11, 25.02, 25.16, 24.98, 24.83,\n",
    "       25.05, 24.94, 25.04, 24.99, 24.96,\n",
    "       25.03, 24.97, 24.93, 25.12, 25.01,\n",
    "       25.12, 24.90, 24.98, 25.10, 24.96)"
   ]
  },
  {
   "cell_type": "code",
   "execution_count": 24,
   "metadata": {},
   "outputs": [],
   "source": [
    "mu_esti <- mean(X)\n",
    "n <- length(X)\n",
    "var_esti_mu <- sum((X-mu_esti)^2)/n"
   ]
  },
  {
   "cell_type": "code",
   "execution_count": 25,
   "metadata": {},
   "outputs": [
    {
     "data": {
      "text/html": [
       "25.01"
      ],
      "text/latex": [
       "25.01"
      ],
      "text/markdown": [
       "25.01"
      ],
      "text/plain": [
       "[1] 25.01"
      ]
     },
     "metadata": {},
     "output_type": "display_data"
    },
    {
     "data": {
      "text/html": [
       "0.00662000000000007"
      ],
      "text/latex": [
       "0.00662000000000007"
      ],
      "text/markdown": [
       "0.00662000000000007"
      ],
      "text/plain": [
       "[1] 0.00662"
      ]
     },
     "metadata": {},
     "output_type": "display_data"
    }
   ],
   "source": [
    "mu_esti\n",
    "var_esti_mu"
   ]
  },
  {
   "cell_type": "markdown",
   "metadata": {},
   "source": [
    "<span style=\"color:red\">**^ Preguntar!**</span>: Cuando pregunta por la *varianza del estimador de mu*, calculo la varianza a partir de las mediciones? o a partir de la varianza del error?"
   ]
  },
  {
   "cell_type": "markdown",
   "metadata": {},
   "source": [
    "<img src=\"./img/3c.png\" width=800 align=\"left\">"
   ]
  },
  {
   "cell_type": "code",
   "execution_count": 26,
   "metadata": {},
   "outputs": [],
   "source": [
    "X <- c(12.51, 11.66, 11.91, 12.25, 11.54, 11.36,\n",
    "       12.40, 12.19, 12.88, 12.16, 12.69, 12.91,\n",
    "       12.12, 11.02, 12.53, 11.77, 12.72, 10.56,\n",
    "       11.52, 11.66, 12.25, 12.09, 11.48, 12.36)"
   ]
  },
  {
   "cell_type": "markdown",
   "metadata": {},
   "source": [
    "$\\epsilon \\sim N(0, \\sigma^2)$"
   ]
  },
  {
   "cell_type": "code",
   "execution_count": 28,
   "metadata": {},
   "outputs": [],
   "source": [
    "mu_0 <- 12\n",
    "mu_X <- mean(X)\n",
    "n <- length(X)\n",
    "var <- sum((X-mu_0)^2)/(n-1)"
   ]
  },
  {
   "cell_type": "code",
   "execution_count": 29,
   "metadata": {},
   "outputs": [
    {
     "data": {
      "text/html": [
       "12"
      ],
      "text/latex": [
       "12"
      ],
      "text/markdown": [
       "12"
      ],
      "text/plain": [
       "[1] 12"
      ]
     },
     "metadata": {},
     "output_type": "display_data"
    },
    {
     "data": {
      "text/html": [
       "12.0225"
      ],
      "text/latex": [
       "12.0225"
      ],
      "text/markdown": [
       "12.0225"
      ],
      "text/plain": [
       "[1] 12.0225"
      ]
     },
     "metadata": {},
     "output_type": "display_data"
    },
    {
     "data": {
      "text/html": [
       "0.351521739130435"
      ],
      "text/latex": [
       "0.351521739130435"
      ],
      "text/markdown": [
       "0.351521739130435"
      ],
      "text/plain": [
       "[1] 0.3515217"
      ]
     },
     "metadata": {},
     "output_type": "display_data"
    }
   ],
   "source": [
    "mu_0\n",
    "mu_X\n",
    "var"
   ]
  },
  {
   "cell_type": "markdown",
   "metadata": {},
   "source": [
    "<img src=\"./img/4.png\" width=800 align=\"left\">"
   ]
  },
  {
   "cell_type": "code",
   "execution_count": null,
   "metadata": {},
   "outputs": [],
   "source": []
  },
  {
   "cell_type": "markdown",
   "metadata": {},
   "source": [
    "<img src=\"./img/5a.png\" width=800 align=\"left\">"
   ]
  },
  {
   "cell_type": "code",
   "execution_count": 9,
   "metadata": {},
   "outputs": [],
   "source": [
    "# X ~ Exp(theta)\n",
    "X <- c(45, 53, 50, 61, 39,\n",
    "       40, 45, 47, 38, 53,\n",
    "       54, 60, 34, 46, 34,\n",
    "       50, 42, 60, 62, 50)"
   ]
  },
  {
   "cell_type": "code",
   "execution_count": 10,
   "metadata": {},
   "outputs": [],
   "source": [
    "n <- length(X)\n",
    "# Calculo theta usando despeje de 4.\n",
    "theta <- n/sum(X)\n",
    "# E[X] = 1/theta\n",
    "tiempo_esperado <- 1/theta"
   ]
  },
  {
   "cell_type": "code",
   "execution_count": 11,
   "metadata": {},
   "outputs": [
    {
     "data": {
      "text/html": [
       "48.15"
      ],
      "text/latex": [
       "48.15"
      ],
      "text/markdown": [
       "48.15"
      ],
      "text/plain": [
       "[1] 48.15"
      ]
     },
     "metadata": {},
     "output_type": "display_data"
    }
   ],
   "source": [
    "tiempo_esperado"
   ]
  },
  {
   "cell_type": "markdown",
   "metadata": {},
   "source": [
    "<img src=\"./img/5b.png\" width=800 align=\"left\">"
   ]
  },
  {
   "cell_type": "code",
   "execution_count": 13,
   "metadata": {},
   "outputs": [],
   "source": [
    "# X ~ Poisson(theta)\n",
    "X <- c(35, 41, 38, 40, 34,\n",
    "       36, 41, 48, 42, 39,\n",
    "       57, 41, 35, 37, 38,\n",
    "       41, 43, 44, 46, 47)"
   ]
  },
  {
   "cell_type": "code",
   "execution_count": 14,
   "metadata": {},
   "outputs": [],
   "source": [
    "n <- length(X)\n",
    "promedio <- sum(X)/n"
   ]
  },
  {
   "cell_type": "code",
   "execution_count": 20,
   "metadata": {},
   "outputs": [
    {
     "data": {
      "text/html": [
       "41.15"
      ],
      "text/latex": [
       "41.15"
      ],
      "text/markdown": [
       "41.15"
      ],
      "text/plain": [
       "[1] 41.15"
      ]
     },
     "metadata": {},
     "output_type": "display_data"
    }
   ],
   "source": [
    "# Estimación del promedio diario de llamadas\n",
    "promedio"
   ]
  },
  {
   "cell_type": "markdown",
   "metadata": {},
   "source": [
    "<img src=\"./img/5c.png\" width=800 align=\"left\">"
   ]
  },
  {
   "cell_type": "code",
   "execution_count": 25,
   "metadata": {},
   "outputs": [],
   "source": [
    "# X ~ f(x,theta)\n",
    "X <- c(0.5,  0.7,  0.8,  0.95, 0.9,\n",
    "       0.6,  0.2,  0.85, 0.3,  0.2,\n",
    "       0.76, 0.55, 0.48, 0.8,  0.76,\n",
    "       0.13, 0.15, 0.67, 0.9,  0.95)\n",
    "n <- length(X)"
   ]
  },
  {
   "cell_type": "code",
   "execution_count": 27,
   "metadata": {},
   "outputs": [
    {
     "data": {
      "text/html": [
       "0.656205413846233"
      ],
      "text/latex": [
       "0.656205413846233"
      ],
      "text/markdown": [
       "0.656205413846233"
      ],
      "text/plain": [
       "[1] 0.6562054"
      ]
     },
     "metadata": {},
     "output_type": "display_data"
    }
   ],
   "source": [
    "# Estimacion de theta con EMV\n",
    "theta <- sum(-log(X))/n\n",
    "theta"
   ]
  },
  {
   "cell_type": "code",
   "execution_count": 28,
   "metadata": {},
   "outputs": [
    {
     "data": {
      "text/html": [
       "0.646090534979424"
      ],
      "text/latex": [
       "0.646090534979424"
      ],
      "text/markdown": [
       "0.646090534979424"
      ],
      "text/plain": [
       "[1] 0.6460905"
      ]
     },
     "metadata": {},
     "output_type": "display_data"
    }
   ],
   "source": [
    "# Estimación de theta con EM\n",
    "theta <- n/sum(X) - 1\n",
    "theta"
   ]
  },
  {
   "cell_type": "markdown",
   "metadata": {},
   "source": [
    "<img src=\"./img/5d.png\" width=800 align=\"left\">"
   ]
  },
  {
   "cell_type": "code",
   "execution_count": 40,
   "metadata": {},
   "outputs": [],
   "source": [
    "# X ~ Geométrica(theta)\n",
    "X <- c(3, 8, 9, 6, 4, 5, 3, 2)\n",
    "n <- length(X)"
   ]
  },
  {
   "cell_type": "code",
   "execution_count": 46,
   "metadata": {},
   "outputs": [
    {
     "data": {
      "text/html": [
       "0.195121951219512"
      ],
      "text/latex": [
       "0.195121951219512"
      ],
      "text/markdown": [
       "0.195121951219512"
      ],
      "text/plain": [
       "[1] 0.195122"
      ]
     },
     "metadata": {},
     "output_type": "display_data"
    }
   ],
   "source": [
    "# con Estimador de MV de theta calculado en iv.\n",
    "theta <- n/(1+sum(X))\n",
    "theta"
   ]
  },
  {
   "cell_type": "code",
   "execution_count": 47,
   "metadata": {},
   "outputs": [
    {
     "data": {
      "text/html": [
       "0.419681990090457"
      ],
      "text/latex": [
       "0.419681990090457"
      ],
      "text/markdown": [
       "0.419681990090457"
      ],
      "text/plain": [
       "[1] 0.419682"
      ]
     },
     "metadata": {},
     "output_type": "display_data"
    }
   ],
   "source": [
    "# EMV de Ptheta(X>=5)\n",
    "# P(X>=5) = 1-P(X<5) = 1-1+(1-p)^k\n",
    "P <- (1-theta)^4\n",
    "P"
   ]
  },
  {
   "cell_type": "code",
   "execution_count": 48,
   "metadata": {},
   "outputs": [
    {
     "data": {
      "text/html": [
       "0.2"
      ],
      "text/latex": [
       "0.2"
      ],
      "text/markdown": [
       "0.2"
      ],
      "text/plain": [
       "[1] 0.2"
      ]
     },
     "metadata": {},
     "output_type": "display_data"
    }
   ],
   "source": [
    "# con Estimador de Momento de theta calculado en iv.\n",
    "theta <- n/(sum(X))\n",
    "theta"
   ]
  },
  {
   "cell_type": "code",
   "execution_count": 49,
   "metadata": {},
   "outputs": [
    {
     "data": {
      "text/html": [
       "0.4096"
      ],
      "text/latex": [
       "0.4096"
      ],
      "text/markdown": [
       "0.4096"
      ],
      "text/plain": [
       "[1] 0.4096"
      ]
     },
     "metadata": {},
     "output_type": "display_data"
    }
   ],
   "source": [
    "P <- (1-theta)^4\n",
    "P"
   ]
  },
  {
   "cell_type": "markdown",
   "metadata": {},
   "source": [
    "![](./img/6a.png)"
   ]
  },
  {
   "cell_type": "code",
   "execution_count": null,
   "metadata": {},
   "outputs": [],
   "source": []
  }
 ],
 "metadata": {
  "kernelspec": {
   "display_name": "R",
   "language": "R",
   "name": "ir"
  },
  "language_info": {
   "codemirror_mode": "r",
   "file_extension": ".r",
   "mimetype": "text/x-r-source",
   "name": "R",
   "pygments_lexer": "r",
   "version": "3.6.0"
  }
 },
 "nbformat": 4,
 "nbformat_minor": 2
}
